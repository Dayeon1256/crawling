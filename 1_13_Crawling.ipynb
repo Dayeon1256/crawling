{
  "nbformat": 4,
  "nbformat_minor": 0,
  "metadata": {
    "colab": {
      "name": "1/13_Crawling.ipynb",
      "provenance": [],
      "collapsed_sections": [],
      "toc_visible": true,
      "authorship_tag": "ABX9TyN9NWNYDIjZuFr37LJYKcc5",
      "include_colab_link": true
    },
    "kernelspec": {
      "name": "python3",
      "display_name": "Python 3"
    },
    "language_info": {
      "name": "python"
    }
  },
  "cells": [
    {
      "cell_type": "markdown",
      "metadata": {
        "id": "view-in-github",
        "colab_type": "text"
      },
      "source": [
        "<a href=\"https://colab.research.google.com/github/Dayeon1256/crawling/blob/main/1_13_Crawling.ipynb\" target=\"_parent\"><img src=\"https://colab.research.google.com/assets/colab-badge.svg\" alt=\"Open In Colab\"/></a>"
      ]
    },
    {
      "cell_type": "markdown",
      "source": [
        "# 1. 1/11 복습"
      ],
      "metadata": {
        "id": "pJuGUuIr9yEd"
      }
    },
    {
      "cell_type": "code",
      "source": [
        "# pip install requests\n",
        "import requests # 웹 연결 라이브러리"
      ],
      "metadata": {
        "id": "k9X6Rf6m95ZB"
      },
      "execution_count": 3,
      "outputs": []
    },
    {
      "cell_type": "code",
      "source": [
        "from bs4 import BeautifulSoup as bs # 데이터를 분석하기 쉽게 정제해주는 라이브러리"
      ],
      "metadata": {
        "id": "aUAZzK0g9_kE"
      },
      "execution_count": 4,
      "outputs": []
    },
    {
      "cell_type": "code",
      "source": [
        "import pandas # 데이터 분석 라이브러리"
      ],
      "metadata": {
        "id": "FrOZjJri-C7q"
      },
      "execution_count": 5,
      "outputs": []
    },
    {
      "cell_type": "code",
      "source": [
        "url = 'https://music.bugs.co.kr/chart'\n",
        "html = requests.get(url)\n",
        "#html.text # 의미 없는 글자"
      ],
      "metadata": {
        "id": "B9Loc45Q-Mio"
      },
      "execution_count": 42,
      "outputs": []
    },
    {
      "cell_type": "code",
      "source": [
        "soup = bs(html.text, 'html.parser')"
      ],
      "metadata": {
        "id": "NgLIWF-u-jUk"
      },
      "execution_count": 25,
      "outputs": []
    },
    {
      "cell_type": "code",
      "source": [
        "songs = soup.select('table.byChart > tbody > tr')\n",
        "len(soup.select('table.byChart > tbody > tr'))"
      ],
      "metadata": {
        "colab": {
          "base_uri": "https://localhost:8080/"
        },
        "id": "r5kLFvNo-0JQ",
        "outputId": "04650a91-bdab-42fc-bde2-4305b87ea444"
      },
      "execution_count": 12,
      "outputs": [
        {
          "output_type": "execute_result",
          "data": {
            "text/plain": [
              "100"
            ]
          },
          "metadata": {},
          "execution_count": 12
        }
      ]
    },
    {
      "cell_type": "code",
      "source": [
        "song = songs[0]"
      ],
      "metadata": {
        "id": "Tx1prtIgkEbp"
      },
      "execution_count": 24,
      "outputs": []
    },
    {
      "cell_type": "code",
      "source": [
        "singer = song.select('p.artist > a')[0].text\n",
        "singer"
      ],
      "metadata": {
        "colab": {
          "base_uri": "https://localhost:8080/",
          "height": 35
        },
        "id": "XM0EXb07kuEj",
        "outputId": "35af4f1d-73fa-4aa8-a300-2cc2dede87d1"
      },
      "execution_count": 18,
      "outputs": [
        {
          "output_type": "execute_result",
          "data": {
            "application/vnd.google.colaboratory.intrinsic+json": {
              "type": "string"
            },
            "text/plain": [
              "'프로미스나인'"
            ]
          },
          "metadata": {},
          "execution_count": 18
        }
      ]
    },
    {
      "cell_type": "code",
      "source": [
        "title = song.select('p.title > a')[0].text\n",
        "title"
      ],
      "metadata": {
        "colab": {
          "base_uri": "https://localhost:8080/",
          "height": 35
        },
        "id": "QQr6FinvlGO3",
        "outputId": "1f66054b-0cee-488b-8b20-06db1fbd0312"
      },
      "execution_count": 19,
      "outputs": [
        {
          "output_type": "execute_result",
          "data": {
            "application/vnd.google.colaboratory.intrinsic+json": {
              "type": "string"
            },
            "text/plain": [
              "'DM'"
            ]
          },
          "metadata": {},
          "execution_count": 19
        }
      ]
    },
    {
      "cell_type": "code",
      "source": [
        "import pandas as pd\n",
        "\n",
        "song_data = []\n",
        "rank = 1\n",
        "\n",
        "songs = soup.select('table.byChart > tbody > tr')\n",
        "\n",
        "for song in songs:\n",
        "  singer = song.select('p.artist > a')[0].text\n",
        "  title = song.select('p.title > a')[0].text\n",
        "  song_data.append([rank,title,singer])\n",
        "  rank += 1 # rank = rank +1\n",
        "\n",
        "\n",
        "df = pd.DataFrame(song_data, columns = ['순위', '타이틀', '가수'])\n",
        "df"
      ],
      "metadata": {
        "colab": {
          "base_uri": "https://localhost:8080/",
          "height": 424
        },
        "id": "vRl7T9LtlvKh",
        "outputId": "46187b18-c005-4ee7-ebce-095aa92137d8"
      },
      "execution_count": 22,
      "outputs": [
        {
          "output_type": "execute_result",
          "data": {
            "text/html": [
              "\n",
              "  <div id=\"df-952fe8e6-bf65-4571-b91e-7a3caa741f61\">\n",
              "    <div class=\"colab-df-container\">\n",
              "      <div>\n",
              "<style scoped>\n",
              "    .dataframe tbody tr th:only-of-type {\n",
              "        vertical-align: middle;\n",
              "    }\n",
              "\n",
              "    .dataframe tbody tr th {\n",
              "        vertical-align: top;\n",
              "    }\n",
              "\n",
              "    .dataframe thead th {\n",
              "        text-align: right;\n",
              "    }\n",
              "</style>\n",
              "<table border=\"1\" class=\"dataframe\">\n",
              "  <thead>\n",
              "    <tr style=\"text-align: right;\">\n",
              "      <th></th>\n",
              "      <th>순위</th>\n",
              "      <th>타이틀</th>\n",
              "      <th>가수</th>\n",
              "    </tr>\n",
              "  </thead>\n",
              "  <tbody>\n",
              "    <tr>\n",
              "      <th>0</th>\n",
              "      <td>1</td>\n",
              "      <td>DM</td>\n",
              "      <td>프로미스나인</td>\n",
              "    </tr>\n",
              "    <tr>\n",
              "      <th>1</th>\n",
              "      <td>2</td>\n",
              "      <td>Can't Control Myself</td>\n",
              "      <td>태연 (TAEYEON)</td>\n",
              "    </tr>\n",
              "    <tr>\n",
              "      <th>2</th>\n",
              "      <td>3</td>\n",
              "      <td>Escape Room</td>\n",
              "      <td>프로미스나인</td>\n",
              "    </tr>\n",
              "    <tr>\n",
              "      <th>3</th>\n",
              "      <td>4</td>\n",
              "      <td>Hush Hush</td>\n",
              "      <td>프로미스나인</td>\n",
              "    </tr>\n",
              "    <tr>\n",
              "      <th>4</th>\n",
              "      <td>5</td>\n",
              "      <td>0g</td>\n",
              "      <td>프로미스나인</td>\n",
              "    </tr>\n",
              "    <tr>\n",
              "      <th>...</th>\n",
              "      <td>...</td>\n",
              "      <td>...</td>\n",
              "      <td>...</td>\n",
              "    </tr>\n",
              "    <tr>\n",
              "      <th>95</th>\n",
              "      <td>96</td>\n",
              "      <td>Shivers</td>\n",
              "      <td>Ed Sheeran(에드 시런)</td>\n",
              "    </tr>\n",
              "    <tr>\n",
              "      <th>96</th>\n",
              "      <td>97</td>\n",
              "      <td>Dun Dun Dance</td>\n",
              "      <td>오마이걸(OH MY GIRL)</td>\n",
              "    </tr>\n",
              "    <tr>\n",
              "      <th>97</th>\n",
              "      <td>98</td>\n",
              "      <td>걱정말아요 그대</td>\n",
              "      <td>싱어게인2 37호 가수</td>\n",
              "    </tr>\n",
              "    <tr>\n",
              "      <th>98</th>\n",
              "      <td>99</td>\n",
              "      <td>Hey Mama (feat. Nicki Minaj, Bebe Rexha &amp; Afro...</td>\n",
              "      <td>David Guetta(데이빗 게타)</td>\n",
              "    </tr>\n",
              "    <tr>\n",
              "      <th>99</th>\n",
              "      <td>100</td>\n",
              "      <td>Easy On Me</td>\n",
              "      <td>Adele(아델)</td>\n",
              "    </tr>\n",
              "  </tbody>\n",
              "</table>\n",
              "<p>100 rows × 3 columns</p>\n",
              "</div>\n",
              "      <button class=\"colab-df-convert\" onclick=\"convertToInteractive('df-952fe8e6-bf65-4571-b91e-7a3caa741f61')\"\n",
              "              title=\"Convert this dataframe to an interactive table.\"\n",
              "              style=\"display:none;\">\n",
              "        \n",
              "  <svg xmlns=\"http://www.w3.org/2000/svg\" height=\"24px\"viewBox=\"0 0 24 24\"\n",
              "       width=\"24px\">\n",
              "    <path d=\"M0 0h24v24H0V0z\" fill=\"none\"/>\n",
              "    <path d=\"M18.56 5.44l.94 2.06.94-2.06 2.06-.94-2.06-.94-.94-2.06-.94 2.06-2.06.94zm-11 1L8.5 8.5l.94-2.06 2.06-.94-2.06-.94L8.5 2.5l-.94 2.06-2.06.94zm10 10l.94 2.06.94-2.06 2.06-.94-2.06-.94-.94-2.06-.94 2.06-2.06.94z\"/><path d=\"M17.41 7.96l-1.37-1.37c-.4-.4-.92-.59-1.43-.59-.52 0-1.04.2-1.43.59L10.3 9.45l-7.72 7.72c-.78.78-.78 2.05 0 2.83L4 21.41c.39.39.9.59 1.41.59.51 0 1.02-.2 1.41-.59l7.78-7.78 2.81-2.81c.8-.78.8-2.07 0-2.86zM5.41 20L4 18.59l7.72-7.72 1.47 1.35L5.41 20z\"/>\n",
              "  </svg>\n",
              "      </button>\n",
              "      \n",
              "  <style>\n",
              "    .colab-df-container {\n",
              "      display:flex;\n",
              "      flex-wrap:wrap;\n",
              "      gap: 12px;\n",
              "    }\n",
              "\n",
              "    .colab-df-convert {\n",
              "      background-color: #E8F0FE;\n",
              "      border: none;\n",
              "      border-radius: 50%;\n",
              "      cursor: pointer;\n",
              "      display: none;\n",
              "      fill: #1967D2;\n",
              "      height: 32px;\n",
              "      padding: 0 0 0 0;\n",
              "      width: 32px;\n",
              "    }\n",
              "\n",
              "    .colab-df-convert:hover {\n",
              "      background-color: #E2EBFA;\n",
              "      box-shadow: 0px 1px 2px rgba(60, 64, 67, 0.3), 0px 1px 3px 1px rgba(60, 64, 67, 0.15);\n",
              "      fill: #174EA6;\n",
              "    }\n",
              "\n",
              "    [theme=dark] .colab-df-convert {\n",
              "      background-color: #3B4455;\n",
              "      fill: #D2E3FC;\n",
              "    }\n",
              "\n",
              "    [theme=dark] .colab-df-convert:hover {\n",
              "      background-color: #434B5C;\n",
              "      box-shadow: 0px 1px 3px 1px rgba(0, 0, 0, 0.15);\n",
              "      filter: drop-shadow(0px 1px 2px rgba(0, 0, 0, 0.3));\n",
              "      fill: #FFFFFF;\n",
              "    }\n",
              "  </style>\n",
              "\n",
              "      <script>\n",
              "        const buttonEl =\n",
              "          document.querySelector('#df-952fe8e6-bf65-4571-b91e-7a3caa741f61 button.colab-df-convert');\n",
              "        buttonEl.style.display =\n",
              "          google.colab.kernel.accessAllowed ? 'block' : 'none';\n",
              "\n",
              "        async function convertToInteractive(key) {\n",
              "          const element = document.querySelector('#df-952fe8e6-bf65-4571-b91e-7a3caa741f61');\n",
              "          const dataTable =\n",
              "            await google.colab.kernel.invokeFunction('convertToInteractive',\n",
              "                                                     [key], {});\n",
              "          if (!dataTable) return;\n",
              "\n",
              "          const docLinkHtml = 'Like what you see? Visit the ' +\n",
              "            '<a target=\"_blank\" href=https://colab.research.google.com/notebooks/data_table.ipynb>data table notebook</a>'\n",
              "            + ' to learn more about interactive tables.';\n",
              "          element.innerHTML = '';\n",
              "          dataTable['output_type'] = 'display_data';\n",
              "          await google.colab.output.renderOutput(dataTable, element);\n",
              "          const docLink = document.createElement('div');\n",
              "          docLink.innerHTML = docLinkHtml;\n",
              "          element.appendChild(docLink);\n",
              "        }\n",
              "      </script>\n",
              "    </div>\n",
              "  </div>\n",
              "  "
            ],
            "text/plain": [
              "     순위  ...                    가수\n",
              "0     1  ...                프로미스나인\n",
              "1     2  ...          태연 (TAEYEON)\n",
              "2     3  ...                프로미스나인\n",
              "3     4  ...                프로미스나인\n",
              "4     5  ...                프로미스나인\n",
              "..  ...  ...                   ...\n",
              "95   96  ...     Ed Sheeran(에드 시런)\n",
              "96   97  ...      오마이걸(OH MY GIRL)\n",
              "97   98  ...          싱어게인2 37호 가수\n",
              "98   99  ...  David Guetta(데이빗 게타)\n",
              "99  100  ...             Adele(아델)\n",
              "\n",
              "[100 rows x 3 columns]"
            ]
          },
          "metadata": {},
          "execution_count": 22
        }
      ]
    },
    {
      "cell_type": "code",
      "source": [
        "df.to_excel('bugs.xlsx', index = False) # 인덱스 삭제"
      ],
      "metadata": {
        "id": "_2wiOwkpmc-m"
      },
      "execution_count": 23,
      "outputs": []
    },
    {
      "cell_type": "markdown",
      "source": [
        "# 본수업"
      ],
      "metadata": {
        "id": "MxO3ZxjlnBZj"
      }
    },
    {
      "cell_type": "markdown",
      "source": [
        "## 네이버 영화 평점"
      ],
      "metadata": {
        "id": "hfvAFnWznT34"
      }
    },
    {
      "cell_type": "code",
      "source": [
        "import requests # 인터넷 연결\n",
        "from bs4 import BeautifulSoup as bs # 데이터 분석 쉽게 처리\n",
        "import pandas as pd # 데이터 분석 라이브러리"
      ],
      "metadata": {
        "id": "qrRtBE0TqIHe"
      },
      "execution_count": 26,
      "outputs": []
    },
    {
      "cell_type": "code",
      "source": [
        "url = 'https://movie.naver.com/movie/sdb/rank/rmovie.naver?sel=cur&date=20220119'\n",
        "\n",
        "html = requests.get(url)\n",
        "soup = bs(html.text)"
      ],
      "metadata": {
        "id": "BfIEepAgqYBG"
      },
      "execution_count": 27,
      "outputs": []
    },
    {
      "cell_type": "code",
      "source": [
        "title_n = soup.select('div.tit5 > a')\n",
        "len(title_n)"
      ],
      "metadata": {
        "colab": {
          "base_uri": "https://localhost:8080/"
        },
        "id": "p7Ce2BWBqfOQ",
        "outputId": "0314e8b4-c10a-42bc-b0f9-3c5e969f1483"
      },
      "execution_count": 30,
      "outputs": [
        {
          "output_type": "execute_result",
          "data": {
            "text/plain": [
              "17"
            ]
          },
          "metadata": {},
          "execution_count": 30
        }
      ]
    },
    {
      "cell_type": "code",
      "source": [
        "title_n[0]"
      ],
      "metadata": {
        "colab": {
          "base_uri": "https://localhost:8080/"
        },
        "id": "sDDVG2kjq0J_",
        "outputId": "04fa1095-b420-4bc7-f69e-2ffe3508f887"
      },
      "execution_count": 31,
      "outputs": [
        {
          "output_type": "execute_result",
          "data": {
            "text/plain": [
              "<a href=\"/movie/bi/mi/basic.naver?code=187320\" title=\"씽2게더\">씽2게더</a>"
            ]
          },
          "metadata": {},
          "execution_count": 31
        }
      ]
    },
    {
      "cell_type": "code",
      "source": [
        "point_n = soup.select('td.point')\n",
        "len(point_n)"
      ],
      "metadata": {
        "colab": {
          "base_uri": "https://localhost:8080/"
        },
        "id": "o2hGXfMuraBH",
        "outputId": "b2d52481-5601-4d72-c2cb-25fc9569da03"
      },
      "execution_count": 35,
      "outputs": [
        {
          "output_type": "execute_result",
          "data": {
            "text/plain": [
              "17"
            ]
          },
          "metadata": {},
          "execution_count": 35
        }
      ]
    },
    {
      "cell_type": "code",
      "source": [
        "point_n[0].text"
      ],
      "metadata": {
        "colab": {
          "base_uri": "https://localhost:8080/",
          "height": 35
        },
        "id": "JKHlNK5Nrtdl",
        "outputId": "c2788056-5753-45c8-9aee-5ff8abc14834"
      },
      "execution_count": 36,
      "outputs": [
        {
          "output_type": "execute_result",
          "data": {
            "application/vnd.google.colaboratory.intrinsic+json": {
              "type": "string"
            },
            "text/plain": [
              "'9.43'"
            ]
          },
          "metadata": {},
          "execution_count": 36
        }
      ]
    },
    {
      "cell_type": "code",
      "source": [
        "print(title_n[0].text)\n",
        "print(point_n[0].text)"
      ],
      "metadata": {
        "colab": {
          "base_uri": "https://localhost:8080/"
        },
        "id": "tIFPX8A2sBSB",
        "outputId": "3a632d44-3f54-4cdb-c1c6-4c19e79c6b0a"
      },
      "execution_count": 37,
      "outputs": [
        {
          "output_type": "stream",
          "name": "stdout",
          "text": [
            "씽2게더\n",
            "9.43\n"
          ]
        }
      ]
    },
    {
      "cell_type": "code",
      "source": [
        "movie_list=[]\n",
        "rank = 1\n",
        "\n",
        "for each in range(len(point_n)):\n",
        "  title = title_n[each].text\n",
        "  point = point_n[each].text\n",
        "  movie_list.append([rank, title, point])\n",
        "  rank += 1\n",
        "\n",
        "movie_list\n"
      ],
      "metadata": {
        "colab": {
          "base_uri": "https://localhost:8080/"
        },
        "id": "ard8BiabsIuL",
        "outputId": "02166e1c-4e01-4df1-b794-d09760dd4a11"
      },
      "execution_count": 39,
      "outputs": [
        {
          "output_type": "execute_result",
          "data": {
            "text/plain": [
              "[[1, '씽2게더', '9.43'],\n",
              " [2, '코다', '9.23'],\n",
              " [3, '러브레터', '9.12'],\n",
              " [4, '기쿠지로의 여름', '8.92'],\n",
              " [5, '스파이더맨: 노 웨이 홈', '8.92'],\n",
              " [6, '아멜리에', '8.81'],\n",
              " [7, '돈 룩 업', '8.69'],\n",
              " [8, '드라이브 마이 카', '8.59'],\n",
              " [9, '태일이', '8.47'],\n",
              " [10, '특송', '8.35'],\n",
              " [11, '킹스맨: 퍼스트 에이전트', '8.09'],\n",
              " [12, '프렌치 디스패치', '7.99'],\n",
              " [13, '하우스 오브 구찌', '7.98'],\n",
              " [14, '경관의 피', '7.67'],\n",
              " [15, '해피 뉴 이어', '7.04'],\n",
              " [16, '웨스트 사이드 스토리', '6.76'],\n",
              " [17, '매트릭스: 리저렉션', '5.51']]"
            ]
          },
          "metadata": {},
          "execution_count": 39
        }
      ]
    },
    {
      "cell_type": "code",
      "source": [
        "movie_list=[]\n",
        "rank = 1\n",
        "\n",
        "for each in range(len(point_n)):\n",
        "  title = title_n[each].text\n",
        "  point = point_n[each].text\n",
        "  movie_list.append([rank, title, point])\n",
        "  rank += 1\n",
        "\n",
        "df = pd.DataFrame(movie_list, columns = ['순위', '제목', '평점'])\n",
        "df"
      ],
      "metadata": {
        "colab": {
          "base_uri": "https://localhost:8080/",
          "height": 582
        },
        "id": "zBdzaWf8tC7s",
        "outputId": "ded8ff6e-d5f7-4819-ac88-bdd608728b56"
      },
      "execution_count": 41,
      "outputs": [
        {
          "output_type": "execute_result",
          "data": {
            "text/html": [
              "\n",
              "  <div id=\"df-3146f0f9-0a4b-4391-8f13-f0534e14ba75\">\n",
              "    <div class=\"colab-df-container\">\n",
              "      <div>\n",
              "<style scoped>\n",
              "    .dataframe tbody tr th:only-of-type {\n",
              "        vertical-align: middle;\n",
              "    }\n",
              "\n",
              "    .dataframe tbody tr th {\n",
              "        vertical-align: top;\n",
              "    }\n",
              "\n",
              "    .dataframe thead th {\n",
              "        text-align: right;\n",
              "    }\n",
              "</style>\n",
              "<table border=\"1\" class=\"dataframe\">\n",
              "  <thead>\n",
              "    <tr style=\"text-align: right;\">\n",
              "      <th></th>\n",
              "      <th>순위</th>\n",
              "      <th>제목</th>\n",
              "      <th>평점</th>\n",
              "    </tr>\n",
              "  </thead>\n",
              "  <tbody>\n",
              "    <tr>\n",
              "      <th>0</th>\n",
              "      <td>1</td>\n",
              "      <td>씽2게더</td>\n",
              "      <td>9.43</td>\n",
              "    </tr>\n",
              "    <tr>\n",
              "      <th>1</th>\n",
              "      <td>2</td>\n",
              "      <td>코다</td>\n",
              "      <td>9.23</td>\n",
              "    </tr>\n",
              "    <tr>\n",
              "      <th>2</th>\n",
              "      <td>3</td>\n",
              "      <td>러브레터</td>\n",
              "      <td>9.12</td>\n",
              "    </tr>\n",
              "    <tr>\n",
              "      <th>3</th>\n",
              "      <td>4</td>\n",
              "      <td>기쿠지로의 여름</td>\n",
              "      <td>8.92</td>\n",
              "    </tr>\n",
              "    <tr>\n",
              "      <th>4</th>\n",
              "      <td>5</td>\n",
              "      <td>스파이더맨: 노 웨이 홈</td>\n",
              "      <td>8.92</td>\n",
              "    </tr>\n",
              "    <tr>\n",
              "      <th>5</th>\n",
              "      <td>6</td>\n",
              "      <td>아멜리에</td>\n",
              "      <td>8.81</td>\n",
              "    </tr>\n",
              "    <tr>\n",
              "      <th>6</th>\n",
              "      <td>7</td>\n",
              "      <td>돈 룩 업</td>\n",
              "      <td>8.69</td>\n",
              "    </tr>\n",
              "    <tr>\n",
              "      <th>7</th>\n",
              "      <td>8</td>\n",
              "      <td>드라이브 마이 카</td>\n",
              "      <td>8.59</td>\n",
              "    </tr>\n",
              "    <tr>\n",
              "      <th>8</th>\n",
              "      <td>9</td>\n",
              "      <td>태일이</td>\n",
              "      <td>8.47</td>\n",
              "    </tr>\n",
              "    <tr>\n",
              "      <th>9</th>\n",
              "      <td>10</td>\n",
              "      <td>특송</td>\n",
              "      <td>8.35</td>\n",
              "    </tr>\n",
              "    <tr>\n",
              "      <th>10</th>\n",
              "      <td>11</td>\n",
              "      <td>킹스맨: 퍼스트 에이전트</td>\n",
              "      <td>8.09</td>\n",
              "    </tr>\n",
              "    <tr>\n",
              "      <th>11</th>\n",
              "      <td>12</td>\n",
              "      <td>프렌치 디스패치</td>\n",
              "      <td>7.99</td>\n",
              "    </tr>\n",
              "    <tr>\n",
              "      <th>12</th>\n",
              "      <td>13</td>\n",
              "      <td>하우스 오브 구찌</td>\n",
              "      <td>7.98</td>\n",
              "    </tr>\n",
              "    <tr>\n",
              "      <th>13</th>\n",
              "      <td>14</td>\n",
              "      <td>경관의 피</td>\n",
              "      <td>7.67</td>\n",
              "    </tr>\n",
              "    <tr>\n",
              "      <th>14</th>\n",
              "      <td>15</td>\n",
              "      <td>해피 뉴 이어</td>\n",
              "      <td>7.04</td>\n",
              "    </tr>\n",
              "    <tr>\n",
              "      <th>15</th>\n",
              "      <td>16</td>\n",
              "      <td>웨스트 사이드 스토리</td>\n",
              "      <td>6.76</td>\n",
              "    </tr>\n",
              "    <tr>\n",
              "      <th>16</th>\n",
              "      <td>17</td>\n",
              "      <td>매트릭스: 리저렉션</td>\n",
              "      <td>5.51</td>\n",
              "    </tr>\n",
              "  </tbody>\n",
              "</table>\n",
              "</div>\n",
              "      <button class=\"colab-df-convert\" onclick=\"convertToInteractive('df-3146f0f9-0a4b-4391-8f13-f0534e14ba75')\"\n",
              "              title=\"Convert this dataframe to an interactive table.\"\n",
              "              style=\"display:none;\">\n",
              "        \n",
              "  <svg xmlns=\"http://www.w3.org/2000/svg\" height=\"24px\"viewBox=\"0 0 24 24\"\n",
              "       width=\"24px\">\n",
              "    <path d=\"M0 0h24v24H0V0z\" fill=\"none\"/>\n",
              "    <path d=\"M18.56 5.44l.94 2.06.94-2.06 2.06-.94-2.06-.94-.94-2.06-.94 2.06-2.06.94zm-11 1L8.5 8.5l.94-2.06 2.06-.94-2.06-.94L8.5 2.5l-.94 2.06-2.06.94zm10 10l.94 2.06.94-2.06 2.06-.94-2.06-.94-.94-2.06-.94 2.06-2.06.94z\"/><path d=\"M17.41 7.96l-1.37-1.37c-.4-.4-.92-.59-1.43-.59-.52 0-1.04.2-1.43.59L10.3 9.45l-7.72 7.72c-.78.78-.78 2.05 0 2.83L4 21.41c.39.39.9.59 1.41.59.51 0 1.02-.2 1.41-.59l7.78-7.78 2.81-2.81c.8-.78.8-2.07 0-2.86zM5.41 20L4 18.59l7.72-7.72 1.47 1.35L5.41 20z\"/>\n",
              "  </svg>\n",
              "      </button>\n",
              "      \n",
              "  <style>\n",
              "    .colab-df-container {\n",
              "      display:flex;\n",
              "      flex-wrap:wrap;\n",
              "      gap: 12px;\n",
              "    }\n",
              "\n",
              "    .colab-df-convert {\n",
              "      background-color: #E8F0FE;\n",
              "      border: none;\n",
              "      border-radius: 50%;\n",
              "      cursor: pointer;\n",
              "      display: none;\n",
              "      fill: #1967D2;\n",
              "      height: 32px;\n",
              "      padding: 0 0 0 0;\n",
              "      width: 32px;\n",
              "    }\n",
              "\n",
              "    .colab-df-convert:hover {\n",
              "      background-color: #E2EBFA;\n",
              "      box-shadow: 0px 1px 2px rgba(60, 64, 67, 0.3), 0px 1px 3px 1px rgba(60, 64, 67, 0.15);\n",
              "      fill: #174EA6;\n",
              "    }\n",
              "\n",
              "    [theme=dark] .colab-df-convert {\n",
              "      background-color: #3B4455;\n",
              "      fill: #D2E3FC;\n",
              "    }\n",
              "\n",
              "    [theme=dark] .colab-df-convert:hover {\n",
              "      background-color: #434B5C;\n",
              "      box-shadow: 0px 1px 3px 1px rgba(0, 0, 0, 0.15);\n",
              "      filter: drop-shadow(0px 1px 2px rgba(0, 0, 0, 0.3));\n",
              "      fill: #FFFFFF;\n",
              "    }\n",
              "  </style>\n",
              "\n",
              "      <script>\n",
              "        const buttonEl =\n",
              "          document.querySelector('#df-3146f0f9-0a4b-4391-8f13-f0534e14ba75 button.colab-df-convert');\n",
              "        buttonEl.style.display =\n",
              "          google.colab.kernel.accessAllowed ? 'block' : 'none';\n",
              "\n",
              "        async function convertToInteractive(key) {\n",
              "          const element = document.querySelector('#df-3146f0f9-0a4b-4391-8f13-f0534e14ba75');\n",
              "          const dataTable =\n",
              "            await google.colab.kernel.invokeFunction('convertToInteractive',\n",
              "                                                     [key], {});\n",
              "          if (!dataTable) return;\n",
              "\n",
              "          const docLinkHtml = 'Like what you see? Visit the ' +\n",
              "            '<a target=\"_blank\" href=https://colab.research.google.com/notebooks/data_table.ipynb>data table notebook</a>'\n",
              "            + ' to learn more about interactive tables.';\n",
              "          element.innerHTML = '';\n",
              "          dataTable['output_type'] = 'display_data';\n",
              "          await google.colab.output.renderOutput(dataTable, element);\n",
              "          const docLink = document.createElement('div');\n",
              "          docLink.innerHTML = docLinkHtml;\n",
              "          element.appendChild(docLink);\n",
              "        }\n",
              "      </script>\n",
              "    </div>\n",
              "  </div>\n",
              "  "
            ],
            "text/plain": [
              "    순위             제목    평점\n",
              "0    1           씽2게더  9.43\n",
              "1    2             코다  9.23\n",
              "2    3           러브레터  9.12\n",
              "3    4       기쿠지로의 여름  8.92\n",
              "4    5  스파이더맨: 노 웨이 홈  8.92\n",
              "5    6           아멜리에  8.81\n",
              "6    7          돈 룩 업  8.69\n",
              "7    8      드라이브 마이 카  8.59\n",
              "8    9            태일이  8.47\n",
              "9   10             특송  8.35\n",
              "10  11  킹스맨: 퍼스트 에이전트  8.09\n",
              "11  12       프렌치 디스패치  7.99\n",
              "12  13      하우스 오브 구찌  7.98\n",
              "13  14          경관의 피  7.67\n",
              "14  15        해피 뉴 이어  7.04\n",
              "15  16    웨스트 사이드 스토리  6.76\n",
              "16  17     매트릭스: 리저렉션  5.51"
            ]
          },
          "metadata": {},
          "execution_count": 41
        }
      ]
    },
    {
      "cell_type": "markdown",
      "source": [
        "## MELON 순위 - jupyter 참고\n",
        "\n",
        "response[200] : 성공\n",
        "response[406] : 오류"
      ],
      "metadata": {
        "id": "A1HEsFOjteW7"
      }
    },
    {
      "cell_type": "code",
      "source": [
        "import requests\n",
        "from bs4 import BeautifulSoup as bs\n",
        "import pandas as pd"
      ],
      "metadata": {
        "id": "VpruSkmvuKCF"
      },
      "execution_count": 43,
      "outputs": []
    },
    {
      "cell_type": "code",
      "source": [
        "url = \"https://www.melon.com/chart/index.htm\"\n",
        "html = requests.get(url)\n",
        "html"
      ],
      "metadata": {
        "colab": {
          "base_uri": "https://localhost:8080/"
        },
        "id": "CURNLkn4uTEi",
        "outputId": "047dc309-a9be-4909-b6d0-c74c5395fe63"
      },
      "execution_count": 44,
      "outputs": [
        {
          "output_type": "execute_result",
          "data": {
            "text/plain": [
              "<Response [406]>"
            ]
          },
          "metadata": {},
          "execution_count": 44
        }
      ]
    },
    {
      "cell_type": "code",
      "source": [
        "url = \"https://www.melon.com/chart/index.htm\"\n",
        "html = requests.get(url)\n",
        "html.text"
      ],
      "metadata": {
        "colab": {
          "base_uri": "https://localhost:8080/",
          "height": 35
        },
        "id": "HOtOIoUHueUo",
        "outputId": "e3480dd7-a9b3-4b53-db8b-dd034618b283"
      },
      "execution_count": 45,
      "outputs": [
        {
          "output_type": "execute_result",
          "data": {
            "application/vnd.google.colaboratory.intrinsic+json": {
              "type": "string"
            },
            "text/plain": [
              "''"
            ]
          },
          "metadata": {},
          "execution_count": 45
        }
      ]
    },
    {
      "cell_type": "markdown",
      "source": [
        "## GENIE 순위 - jupyter 참고\n"
      ],
      "metadata": {
        "id": "fzNrVULZuqFl"
      }
    },
    {
      "cell_type": "code",
      "source": [
        "import requests\n",
        "from bs4 import BeautifulSoup as bs\n",
        "import pandas as pd"
      ],
      "metadata": {
        "id": "Y4Ewt-mOuzCY"
      },
      "execution_count": 46,
      "outputs": []
    },
    {
      "cell_type": "code",
      "source": [
        "url = \"https://www.genie.co.kr/chart/top200\"\n",
        "html = requests.get(url)\n",
        "html.text"
      ],
      "metadata": {
        "colab": {
          "base_uri": "https://localhost:8080/",
          "height": 164
        },
        "id": "M8mp04btu1VR",
        "outputId": "f0bb427c-1ee7-42b7-cf4d-8365f0b9bbe2"
      },
      "execution_count": 48,
      "outputs": [
        {
          "output_type": "execute_result",
          "data": {
            "application/vnd.google.colaboratory.intrinsic+json": {
              "type": "string"
            },
            "text/plain": [
              "'<br>\\r\\n<br>\\r\\n<center>\\r\\n<img src=\"http://www.geniemusic.co.kr/images/common/logo_r1.png\"><br>\\r\\n<h2> <meta http-equiv=\"Content-Type\" content=\"text/html;charset=UTF-8\"> ì\\xa0\\x91ì\\x86\\x8dì\\x9a\\x94ì²\\xadì\\x9d´ ë³´ì\\x95\\x88ì\\xa0\\x95ì±\\x85ì\\x97\\x90 ì\\x9d\\x98í\\x95´ ì°¨ë\\x8b¨ë\\x90\\x98ì\\x97\\x88ì\\x8aµë\\x8b\\x88ë\\x8b¤. ë\\x8b¹ì\\x82¬ ê³\\xa0ê°\\x9dì\\x84¼í\\x84°ë¡\\x9c ë¬¸ì\\x9d\\x98í\\x95´ì£¼ì\\x8b\\xadì\\x8b\\x9cì\\x98¤.<br><br>\\r\\nThe security policy of the connection request is blocked. Contact your customer service representative.<br><br>\\r\\nì§\\x80ë\\x8b\\x88ë®¤ì§\\x81 ê³\\xa0ê°\\x9dì\\x84¼í\\x84° 1577-5337<br><br>\\r\\n</h2>\\r\\n</center>\\r\\n<br>'"
            ]
          },
          "metadata": {},
          "execution_count": 48
        }
      ]
    },
    {
      "cell_type": "code",
      "source": [
        ""
      ],
      "metadata": {
        "id": "4Xz_8eSLvG27"
      },
      "execution_count": null,
      "outputs": []
    }
  ]
}